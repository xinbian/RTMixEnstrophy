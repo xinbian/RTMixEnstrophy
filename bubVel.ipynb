{
 "cells": [
  {
   "cell_type": "code",
   "execution_count": 1,
   "metadata": {},
   "outputs": [],
   "source": [
    "import matplotlib\n",
    "import pylab\n",
    "import matplotlib.pyplot as plt\n",
    "import matplotlib\n",
    "import h5py\n",
    "import numpy as np\n",
    "import os\n",
    "import os.path\n",
    "from CFDmodule import *\n",
    "from readStep import *\n",
    "from PIL import Image  \n",
    "%matplotlib inline"
   ]
  },
  {
   "cell_type": "code",
   "execution_count": 2,
   "metadata": {},
   "outputs": [],
   "source": [
    "#specify inout parameters here\n",
    "gamma=5.0/3.0\n",
    "g=1.0\n",
    "Lz=4\n",
    "waveLen = 1\n",
    "Ly = waveLen\n",
    "mu =1.13137E-4\n",
    "rho_h = 2\n",
    "rho_l = 1\n",
    "CFDmethod = False\n",
    "#####input done"
   ]
  },
  {
   "cell_type": "code",
   "execution_count": 3,
   "metadata": {},
   "outputs": [
    {
     "data": {
      "text/plain": [
       "'004000'"
      ]
     },
     "execution_count": 3,
     "metadata": {},
     "output_type": "execute_result"
    }
   ],
   "source": [
    "###calculate some parameters\n",
    "dz=dy=dx=Lz/nz\n",
    "\n",
    "if nx == 1:\n",
    "    dx=1.0\n",
    "    \n",
    "horizon_lim = (0, Ly-dy)\n",
    "vert_lim = (0, Lz-dz)\n",
    "extent=horizon_lim+vert_lim\n",
    "\n",
    "FieldPoint = h5file.get('Fields').values()\n",
    "totalsteps, specout = get_LatestTime(FieldPoint)\n",
    "\n",
    "step = []\n",
    "for i in range(totalsteps/specout):\n",
    "    step.append(str((i+1)*specout).zfill(6))\n",
    "    \n",
    "istep = str(totalsteps).zfill(6)\n",
    "istep"
   ]
  },
  {
   "cell_type": "code",
   "execution_count": 4,
   "metadata": {},
   "outputs": [
    {
     "data": {
      "text/plain": [
       "<matplotlib.image.AxesImage at 0x2b02514899d0>"
      ]
     },
     "execution_count": 4,
     "metadata": {},
     "output_type": "execute_result"
    },
    {
     "data": {
      "image/png": "[encoded data removed]",
      "text/plain": [
       "<Figure size 1214x1000 with 1 Axes>"
      ]
     },
     "metadata": {
      "needs_background": "light"
     },
     "output_type": "display_data"
    }
   ],
   "source": [
    "mylist = ['Fields/','Prho','/',istep]\n",
    "filepath = delimiter.join(mylist)\n",
    "databk = h5file.get(filepath)\n",
    "rho = np.array(databk)\n",
    "rho = np.transpose(rho)\n",
    "rho = np.transpose(np.reshape(rho, (ny,nz)))\n",
    "\n",
    "fig_pi = plt.figure(1, figsize = (5*1.214,5.0), dpi=200)\n",
    "plt.rc('font', family='serif', size=8)\n",
    "plt.imshow(rho, origin='none', extent=horizon_lim+vert_lim, aspect=1,\n",
    "           cmap='coolwarm',vmin=rho_l,vmax=rho_h)\n"
   ]
  },
  {
   "cell_type": "code",
   "execution_count": 5,
   "metadata": {},
   "outputs": [
    {
     "name": "stdout",
     "output_type": "stream",
     "text": [
      "doing 1.0 %\n",
      "doing 2.0 %\n",
      "doing 3.0 %\n",
      "doing 4.0 %\n",
      "doing 5.0 %\n",
      "doing 6.0 %\n",
      "doing 7.0 %\n",
      "doing 8.0 %\n",
      "doing 9.0 %\n",
      "doing 10.0 %\n",
      "doing 11.0 %\n",
      "doing 12.0 %\n",
      "doing 13.0 %\n",
      "doing 14.0 %\n",
      "doing 15.0 %\n",
      "doing 16.0 %\n",
      "doing 17.0 %\n",
      "doing 18.0 %\n",
      "doing 19.0 %\n",
      "doing 20.0 %\n",
      "doing 21.0 %\n",
      "doing 22.0 %\n",
      "doing 23.0 %\n",
      "doing 24.0 %\n",
      "doing 25.0 %\n",
      "doing 26.0 %\n",
      "doing 27.0 %\n",
      "doing 28.0 %\n",
      "doing 29.0 %\n",
      "doing 30.0 %\n",
      "doing 31.0 %\n",
      "doing 32.0 %\n",
      "doing 33.0 %\n",
      "doing 34.0 %\n",
      "doing 35.0 %\n",
      "doing 36.0 %\n",
      "doing 37.0 %\n",
      "doing 38.0 %\n",
      "doing 39.0 %\n",
      "doing 40.0 %\n",
      "doing 41.0 %\n",
      "doing 42.0 %\n",
      "doing 43.0 %\n",
      "doing 44.0 %\n",
      "doing 45.0 %\n",
      "doing 46.0 %\n",
      "doing 47.0 %\n",
      "doing 48.0 %\n",
      "doing 49.0 %\n",
      "doing 50.0 %\n",
      "doing 51.0 %\n",
      "doing 52.0 %\n",
      "doing 53.0 %\n",
      "doing 54.0 %\n",
      "doing 55.0 %\n",
      "doing 56.0 %\n",
      "doing 57.0 %\n",
      "doing 58.0 %\n",
      "doing 59.0 %\n",
      "doing 60.0 %\n",
      "doing 61.0 %\n",
      "doing 62.0 %\n",
      "doing 63.0 %\n",
      "doing 64.0 %\n",
      "doing 65.0 %\n",
      "doing 66.0 %\n",
      "doing 67.0 %\n",
      "doing 68.0 %\n",
      "doing 69.0 %\n",
      "doing 70.0 %\n",
      "doing 71.0 %\n",
      "doing 72.0 %\n",
      "doing 73.0 %\n",
      "doing 74.0 %\n",
      "doing 75.0 %\n",
      "doing 76.0 %\n",
      "doing 77.0 %\n",
      "doing 78.0 %\n",
      "doing 79.0 %\n",
      "doing 80.0 %\n",
      "doing 81.0 %\n",
      "doing 82.0 %\n",
      "doing 83.0 %\n",
      "doing 84.0 %\n",
      "doing 85.0 %\n",
      "doing 86.0 %\n",
      "doing 87.0 %\n",
      "doing 88.0 %\n",
      "doing 89.0 %\n",
      "doing 90.0 %\n",
      "doing 91.0 %\n",
      "doing 92.0 %\n",
      "doing 93.0 %\n",
      "doing 94.0 %\n",
      "doing 95.0 %\n",
      "doing 96.0 %\n",
      "doing 97.0 %\n",
      "doing 98.0 %\n",
      "doing 99.0 %\n",
      "doing 100.0 %\n"
     ]
    }
   ],
   "source": [
    "##initil function for bub velocity\n",
    "if CFDmethod == True:\n",
    "    CFD_x = Create_matrix_fd2(nx) / dx\n",
    "    CFD_y = Create_matrix_fd2(ny) / dy\n",
    "    CFD_z = Create_matrix_fd2(nz) / dz\n",
    "\n",
    "bub_loc_all = np.zeros(len(step))\n",
    "bub_loc_all_ori = np.zeros(len(step))\n",
    "sp_loc_all = np.zeros(len(step))\n",
    "bub_velo_all = np.zeros(len(step))\n",
    "bub_velo_all_aver = np.zeros(len(step))\n",
    "sp_velo_all = np.zeros(len(step))\n",
    "bub_velo_all_ori = np.zeros(len(step))\n",
    "\n",
    "seq = 0\n",
    "\n",
    "for istep in step:\n",
    "    \n",
    "    print \"doing\", float(istep)/totalsteps*100, \"%\"\n",
    "    \n",
    "\n",
    "    mylist = ['Fields/', 'Prho', '/', istep]\n",
    "    filepath = delimiter.join(mylist)\n",
    "    databk = h5file.get(filepath)\n",
    "    np_data = np.array(databk)\n",
    "    if nx == 1:\n",
    "        m1 = (np_data[:, ny/2-1, 0] + np_data[:, ny/2, 0] )/2\n",
    "    else:\n",
    "        m1 = (np_data[:, ny/2-1, nx/2-1] + np_data[:, ny/2, nx/2] \n",
    "      + np_data[:, ny/2-1, nx/2] + np_data[:, ny/2, nx/2-1])/4.0\n",
    "    m2 = np_data[:, 0, 0]\n",
    "    m1_filter=m1.copy();    \n",
    "    m2_filter=m2.copy();    \n",
    "    for jstep in range(2,nz-3):\n",
    "        m1_filter[jstep]=(m1[jstep-2]+m1[jstep-1]+m1[jstep]+m1[jstep+1]+m1[jstep+2])/5;\n",
    "        m2_filter[jstep]=(m2[jstep-2]+m2[jstep-1]+m2[jstep]+m2[jstep+1]+m2[jstep+2])/5;\n",
    "\n",
    "\n",
    "    m1_grad = high_order_gradient(m1_filter,dx,6)\n",
    "    m2_grad = high_order_gradient(m2_filter,dx,6)\n",
    "\n",
    "\n",
    "    sp_loc = np.argmax(m1_grad)\n",
    "    bub_loc = np.argmax(m2_grad)\n",
    "\n",
    "    sp_loc_all[seq] = sp_loc\n",
    "    bub_loc_all[seq] = bub_loc\n",
    "\n",
    "    mylist = ['Fields/', 'PVz', '/', istep]\n",
    "    filepath = delimiter.join(mylist)\n",
    "    databk = h5file.get(filepath)\n",
    "    np_data = np.array(databk)\n",
    "\n",
    "    #consider 2D/3D case\n",
    "    if nx == 1:\n",
    "        m1 = (np_data[:, ny/2-1, 0] + np_data[:, ny/2, 0] )/2\n",
    "    else:\n",
    "        m1 = (np_data[:, ny/2-1, nx/2-1] + np_data[:, ny/2, nx/2] \n",
    "      + np_data[:, ny/2-1, nx/2] + np_data[:, ny/2, nx/2-1])/4.0\n",
    "    m2 = np_data[:, 0, 0]\n",
    "    sp_velo = m1[sp_loc]\n",
    "    bub_velo = m2[bub_loc]\n",
    "    bub_velo_all[seq] = bub_velo\n",
    "    sp_velo_all[seq] = sp_velo\n",
    "\n",
    "    seq += 1\n"
   ]
  },
  {
   "cell_type": "code",
   "execution_count": 6,
   "metadata": {},
   "outputs": [
    {
     "data": {
      "image/png": "[encoded data removed]",
      "text/plain": [
       "<Figure size 432x288 with 1 Axes>"
      ]
     },
     "metadata": {
      "needs_background": "light"
     },
     "output_type": "display_data"
    },
    {
     "data": {
      "image/png": "[encoded data removed]",
      "text/plain": [
       "<Figure size 432x288 with 1 Axes>"
      ]
     },
     "metadata": {
      "needs_background": "light"
     },
     "output_type": "display_data"
    },
    {
     "data": {
      "image/png": "[encoded data removed]",
      "text/plain": [
       "<Figure size 432x288 with 1 Axes>"
      ]
     },
     "metadata": {
      "needs_background": "light"
     },
     "output_type": "display_data"
    },
    {
     "data": {
      "text/plain": [
       "<Figure size 432x288 with 0 Axes>"
      ]
     },
     "metadata": {},
     "output_type": "display_data"
    }
   ],
   "source": [
    "plt.plot(bub_velo_all)\n",
    "plt.show()\n",
    "plt.savefig('bubvel.eps', format='eps', dpi=300)\n",
    "plt.clf()\n",
    "\n",
    "plt.plot(sp_velo_all)\n",
    "plt.show()\n",
    "plt.savefig('spkvel.eps', format='eps', dpi=300)\n",
    "plt.clf()\n",
    "\n",
    "plt.plot(bub_loc_all)\n",
    "plt.plot(sp_loc_all)\n",
    "plt.savefig('loc.eps', format='eps', dpi=300)\n",
    "plt.show()\n",
    "plt.clf()"
   ]
  },
  {
   "cell_type": "code",
   "execution_count": 7,
   "metadata": {},
   "outputs": [
    {
     "data": {
      "image/png": "[encoded data removed]",
      "text/plain": [
       "<Figure size 432x288 with 1 Axes>"
      ]
     },
     "metadata": {
      "needs_background": "light"
     },
     "output_type": "display_data"
    },
    {
     "data": {
      "text/plain": [
       "<Figure size 432x288 with 0 Axes>"
      ]
     },
     "metadata": {},
     "output_type": "display_data"
    }
   ],
   "source": [
    "plt.plot(np.log(bub_velo_all))\n",
    "plt.show()\n",
    "plt.clf()"
   ]
  },
  {
   "cell_type": "code",
   "execution_count": 12,
   "metadata": {},
   "outputs": [],
   "source": [
    "a = 0.33333\n",
    "g = 1\n",
    "k = 2*np.pi/waveLen\n",
    "time = 5.02\n",
    "Bcode = 0.2\n",
    "B = Bcode*np.sqrt(4*np.pi)"
   ]
  },
  {
   "cell_type": "code",
   "execution_count": 13,
   "metadata": {},
   "outputs": [],
   "source": [
    "n = np.sqrt(a*g*k - B*B*k*k/(rho_h+rho_l)/(2*np.pi))\n",
    "lsa = np.multiply(n,np.linspace(0,time,len(step)))"
   ]
  },
  {
   "cell_type": "code",
   "execution_count": 14,
   "metadata": {},
   "outputs": [
    {
     "name": "stderr",
     "output_type": "stream",
     "text": [
      "/gpfs/fs1/sfw2/anaconda/5.3.0b/lib/python2.7/site-packages/ipykernel/__main__.py:7: RuntimeWarning: invalid value encountered in log\n"
     ]
    },
    {
     "data": {
      "image/png": "[encoded data removed]",
      "text/plain": [
       "<Figure size 396x576 with 1 Axes>"
      ]
     },
     "metadata": {
      "needs_background": "light"
     },
     "output_type": "display_data"
    },
    {
     "data": {
      "text/plain": [
       "<Figure size 432x288 with 0 Axes>"
      ]
     },
     "metadata": {},
     "output_type": "display_data"
    }
   ],
   "source": [
    "plt.figure(figsize=(5.5,8))\n",
    "plt.plot(np.linspace(0,time,len(step)),lsa-9)\n",
    "#plt.xlim(0,5)\n",
    "#plt.ylim(-10,0)\n",
    "plt.xlabel('time', fontsize=20)\n",
    "plt.ylabel('log(Amplitude)',fontsize=20)\n",
    "plt.plot(np.linspace(0,time,len(step)),np.log(bub_velo_all))\n",
    "plt.figsize=(2,1)\n",
    "plt.show()\n",
    "plt.clf()"
   ]
  },
  {
   "cell_type": "code",
   "execution_count": null,
   "metadata": {},
   "outputs": [],
   "source": []
  }
 ],
 "metadata": {
  "kernelspec": {
   "display_name": "Python 2 (anaconda 5.3.0)",
   "language": "python",
   "name": "anaconda-5.3.0b"
  },
  "language_info": {
   "codemirror_mode": {
    "name": "ipython",
    "version": 2
   },
   "file_extension": ".py",
   "mimetype": "text/x-python",
   "name": "python",
   "nbconvert_exporter": "python",
   "pygments_lexer": "ipython2",
   "version": "2.7.15"
  }
 },
 "nbformat": 4,
 "nbformat_minor": 2
}
